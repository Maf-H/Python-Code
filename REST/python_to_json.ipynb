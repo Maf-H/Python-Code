{
 "cells": [
  {
   "cell_type": "code",
   "execution_count": 1,
   "metadata": {},
   "outputs": [],
   "source": [
    "import json"
   ]
  },
  {
   "cell_type": "code",
   "execution_count": 4,
   "metadata": {},
   "outputs": [
    {
     "name": "stdout",
     "output_type": "stream",
     "text": [
      "<class 'float'>\n",
      "1.6021766189989e-19\n"
     ]
    }
   ],
   "source": [
    "jstr = '1.6021766189989e-19'\n",
    "\n",
    "electron = json.loads(jstr)\n",
    "print(type(electron))\n",
    "print(electron)"
   ]
  },
  {
   "cell_type": "markdown",
   "metadata": {},
   "source": [
    "jstr = '\"\\\\\"The Meaning of Life\\\\\" bt Monty Python\\'s Flying Circus\"'\n",
    "\n",
    "comics = json.loads(jstr)\n",
    "print(type(comics))\n",
    "print(comics)"
   ]
  },
  {
   "cell_type": "code",
   "execution_count": 6,
   "metadata": {},
   "outputs": [
    {
     "name": "stdout",
     "output_type": "stream",
     "text": [
      "<class 'list'>\n",
      "[1, 2.34, True, 'False', None, ['a', 0]]\n"
     ]
    }
   ],
   "source": [
    "jstr = '[1, 2.34, true, \"False\", null, [\"a\", 0]]'\n",
    "my_list = json.loads(jstr)\n",
    "print(type(my_list))\n",
    "print(my_list)"
   ]
  },
  {
   "cell_type": "markdown",
   "metadata": {},
   "source": [
    "json_str = '{\"me\":\"Python\",\"pi\":3.141592653589, \"data\":[1,2,4,8],\"friend\":\"JSON\",\"set\": null}'\n",
    "my_dict = json.loads(json_str)\n",
    "print(type(my_dict))\n",
    "print(my_dict)"
   ]
  }
 ],
 "metadata": {
  "kernelspec": {
   "display_name": "Python 3 (ipykernel)",
   "language": "python",
   "name": "python3"
  },
  "language_info": {
   "codemirror_mode": {
    "name": "ipython",
    "version": 3
   },
   "file_extension": ".py",
   "mimetype": "text/x-python",
   "name": "python",
   "nbconvert_exporter": "python",
   "pygments_lexer": "ipython3",
   "version": "3.12.2"
  }
 },
 "nbformat": 4,
 "nbformat_minor": 4
}
