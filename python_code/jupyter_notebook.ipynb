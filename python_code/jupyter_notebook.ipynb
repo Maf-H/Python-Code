{
 "cells": [
  {
   "cell_type": "code",
   "execution_count": 14,
   "id": "70afc870-433e-44b8-87dd-65126059c9d5",
   "metadata": {},
   "outputs": [
    {
     "name": "stdout",
     "output_type": "stream",
     "text": [
      "[[3, 2, 1], [1, 7, 6], [2, 7, 7]]\n",
      "[[3, 1, 2], [2, 7, 7], [1, 6, 7]]\n"
     ]
    }
   ],
   "source": [
    "from pprint import pprint\n",
    "mat = [[3,2,1],[1,7,6],[2,7,7]]\n",
    "col = [[r[i] for r in mat] for i in range(len(mat))]\n",
    "pprint(mat)\n",
    "pprint(col)"
   ]
  },
  {
   "cell_type": "code",
   "execution_count": 7,
   "id": "b2b12ba7-a6bb-47bd-b4e4-964cdf4abf82",
   "metadata": {},
   "outputs": [
    {
     "name": "stdout",
     "output_type": "stream",
     "text": [
      "[[3, 1, 2], [2, 7, 7], [1, 6, 7]]\n"
     ]
    }
   ],
   "source": [
    "tr_mat = [[row[i] for row in mat] for i in range(len(mat))]\n",
    "print(tr_mat)"
   ]
  },
  {
   "cell_type": "code",
   "execution_count": null,
   "id": "633fa479-126b-4fc3-ad13-92b61e2f4001",
   "metadata": {},
   "outputs": [],
   "source": []
  }
 ],
 "metadata": {
  "kernelspec": {
   "display_name": "Python 3 (ipykernel)",
   "language": "python",
   "name": "python3"
  },
  "language_info": {
   "codemirror_mode": {
    "name": "ipython",
    "version": 3
   },
   "file_extension": ".py",
   "mimetype": "text/x-python",
   "name": "python",
   "nbconvert_exporter": "python",
   "pygments_lexer": "ipython3",
   "version": "3.12.2"
  }
 },
 "nbformat": 4,
 "nbformat_minor": 5
}
